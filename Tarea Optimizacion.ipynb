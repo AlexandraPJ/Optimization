{
 "cells": [
  {
   "cell_type": "markdown",
   "id": "2532075a-5272-4f9f-9f8d-87717c028c86",
   "metadata": {},
   "source": [
    "# HW - OPTIMIZATION"
   ]
  },
  {
   "cell_type": "markdown",
   "id": "c70c5c12-c156-4a6a-934d-6eefa75672eb",
   "metadata": {},
   "source": [
    "### Maximization/Minimization\n",
    "### 1) The diet problem"
   ]
  },
  {
   "cell_type": "code",
   "execution_count": 1,
   "id": "d456da9f-ae74-4c35-8434-f7bdd445be98",
   "metadata": {},
   "outputs": [],
   "source": [
    "import pulp as pp"
   ]
  },
  {
   "cell_type": "code",
   "execution_count": 2,
   "id": "8ead6a1a-1429-4087-90a7-ca2a9c18893b",
   "metadata": {},
   "outputs": [],
   "source": [
    "model= pp.LpProblem(name='diet-problem', sense=pp.LpMinimize)"
   ]
  },
  {
   "cell_type": "markdown",
   "id": "8fabe3e6-a95f-431d-84c2-6dd2cd4b29f7",
   "metadata": {},
   "source": [
    "**Variables**"
   ]
  },
  {
   "cell_type": "code",
   "execution_count": 3,
   "id": "b1890362-d55b-4df6-81cc-a5aa0d6797dc",
   "metadata": {},
   "outputs": [],
   "source": [
    "VegaVita = pp.LpVariable(name=\"Vega Vita\", lowBound=0, cat='Continuous')\n",
    "\n",
    "HappyHealth = pp.LpVariable(name=\"Happy Health\", lowBound=0, cat='Continuous')"
   ]
  },
  {
   "cell_type": "markdown",
   "id": "200bfcc2-56aa-4e17-8f82-9ffbea03655f",
   "metadata": {},
   "source": [
    "**Optimize function**"
   ]
  },
  {
   "cell_type": "code",
   "execution_count": 4,
   "id": "26eda77c-4805-43ef-94e9-afbe94f0b714",
   "metadata": {},
   "outputs": [],
   "source": [
    "VV_Coeff=0.2\n",
    "HH_Coeff=0.3\n",
    "obj_func= VV_Coeff*VegaVita + HH_Coeff*HappyHealth"
   ]
  },
  {
   "cell_type": "markdown",
   "id": "43ac8743-42a4-4a8f-8f51-e5e2e6acd8b7",
   "metadata": {},
   "source": [
    "**Constraints**"
   ]
  },
  {
   "cell_type": "code",
   "execution_count": 5,
   "id": "78729298-afe4-47d0-a5ea-bdcdf4bc0955",
   "metadata": {},
   "outputs": [],
   "source": [
    "VitC= pp.LpConstraint(name= 'VitC Constraint',\n",
    "                      e=20*VegaVita + 30*HappyHealth, rhs=60,\n",
    "                      sense= pp.LpConstraintGE)\n",
    "Cal= pp.LpConstraint(name= 'Calcium Constraint',\n",
    "                      e=500*VegaVita + 250*HappyHealth, rhs=1000,\n",
    "                      sense= pp.LpConstraintGE)\n",
    "Iron= pp.LpConstraint(name= 'Iron Constraint',\n",
    "                      e=9*VegaVita + 2*HappyHealth, rhs=18,\n",
    "                      sense= pp.LpConstraintGE)\n",
    "Nia= pp.LpConstraint(name= 'Niacin Constraint',\n",
    "                      e=2*VegaVita + 10*HappyHealth, rhs=20,\n",
    "                      sense= pp.LpConstraintGE)\n",
    "Mag= pp.LpConstraint(name= 'Magnesium Constraint',\n",
    "                      e=60*VegaVita + 90*HappyHealth, rhs=360,\n",
    "                      sense= pp.LpConstraintGE)"
   ]
  },
  {
   "cell_type": "markdown",
   "id": "72495f83-6093-47ad-853d-c4faa843d664",
   "metadata": {},
   "source": [
    "**Model**"
   ]
  },
  {
   "cell_type": "code",
   "execution_count": 6,
   "id": "84846082-d5c6-42ae-8a60-17c0e79f2699",
   "metadata": {},
   "outputs": [],
   "source": [
    "model+= obj_func\n",
    "model+= VitC\n",
    "model+= Cal\n",
    "model+= Iron\n",
    "model+= Nia\n",
    "model+= Mag"
   ]
  },
  {
   "cell_type": "code",
   "execution_count": 7,
   "id": "fb9618ce-4460-4377-9455-5715da5ea584",
   "metadata": {},
   "outputs": [
    {
     "data": {
      "text/plain": [
       "1"
      ]
     },
     "execution_count": 7,
     "metadata": {},
     "output_type": "execute_result"
    }
   ],
   "source": [
    "C_solver= pp.COIN_CMD(path=\"C:/Users/ALEXANDRA/anaconda3/Lib/site-packages/pulp/solverdir/cbc/win/64/cbc.exe\", msg=False)\n",
    "model.solve(solver=C_solver)"
   ]
  },
  {
   "cell_type": "code",
   "execution_count": 8,
   "id": "be887f57-ae20-4ec0-bc2c-9bbea31f2158",
   "metadata": {},
   "outputs": [
    {
     "data": {
      "text/plain": [
       "{'Model Status': 'Optimal',\n",
       " 'Optimal Solution': 1.2,\n",
       " 'Happy_Health': 3.1304348,\n",
       " 'Vega_Vita': 1.3043478}"
      ]
     },
     "execution_count": 8,
     "metadata": {},
     "output_type": "execute_result"
    }
   ],
   "source": [
    "import pandas as pd\n",
    "Results={\"Model Status\":pp.LpStatus[model.status]}\n",
    "Results.update({\"Optimal Solution\":pp.value(model.objective)})\n",
    "Results.update({v.name: v.varValue for v in model.variables()})\n",
    "Results"
   ]
  },
  {
   "cell_type": "markdown",
   "id": "7eb3b354-bc8d-4f93-9bff-0590e14a2737",
   "metadata": {},
   "source": [
    "### 2) The scheduling problem"
   ]
  },
  {
   "cell_type": "code",
   "execution_count": 9,
   "id": "74268a94-665c-4294-a684-58f25d6585e0",
   "metadata": {},
   "outputs": [],
   "source": [
    "model2=pp.LpProblem(name='Scheduling-problem', sense=pp.LpMinimize)"
   ]
  },
  {
   "cell_type": "code",
   "execution_count": 10,
   "id": "de75c011-9c55-4dba-893f-5d24754a1ece",
   "metadata": {},
   "outputs": [],
   "source": [
    "A = pp.LpVariable(name=\"Shift 0-4 am\",\n",
    "                 lowBound=0,\n",
    "                 cat='Continuous')\n",
    "B = pp.LpVariable(name=\"Shift 4-8 am\",\n",
    "                 lowBound=0,\n",
    "                 cat='Continuous')\n",
    "C = pp.LpVariable(name=\"Shift 8-12 am\",\n",
    "                 lowBound=0,\n",
    "                 cat='Continuous')\n",
    "D = pp.LpVariable(name=\"Shift 12-16 pm\",\n",
    "                 lowBound=0,\n",
    "                 cat='Continuous')\n",
    "E = pp.LpVariable(name=\"Shift 16-20 pm\",\n",
    "                 lowBound=0,\n",
    "                 cat='Continuous')\n",
    "F = pp.LpVariable(name=\"Shift 20-0 pm\",\n",
    "                 lowBound=0,\n",
    "                 cat='Continuous')"
   ]
  },
  {
   "cell_type": "code",
   "execution_count": 11,
   "id": "051324a6-d460-4bbe-bced-548e10a713d1",
   "metadata": {},
   "outputs": [],
   "source": [
    "obj_func2 = A + B + C + D + E + F"
   ]
  },
  {
   "cell_type": "code",
   "execution_count": 12,
   "id": "485a5e9e-0aae-4bea-b902-d39e31fc463a",
   "metadata": {},
   "outputs": [],
   "source": [
    "C1= pp.LpConstraint(name='DR_0.8 Constraint',  \n",
    "                    e= 1*A + 1*B, rhs=4, \n",
    "                    sense=pp.LpConstraintLE) \n",
    "C2= pp.LpConstraint(name='DR_4.12 Constraint',  \n",
    "                    e= 1*B + 1*C, rhs=8, \n",
    "                    sense=pp.LpConstraintLE)\n",
    "C3= pp.LpConstraint(name='DR_8.16 Constraint',  \n",
    "                    e= 1*C + 1*D, rhs=10, \n",
    "                    sense=pp.LpConstraintLE)\n",
    "C4= pp.LpConstraint(name='DR_12.20 Constraint',  \n",
    "                    e= 1*D + 1*E, rhs=7, \n",
    "                    sense=pp.LpConstraintLE)\n",
    "C5= pp.LpConstraint(name='DR_16.0 Constraint',  \n",
    "                    e= 1*E + 1*F, rhs=12, \n",
    "                    sense=pp.LpConstraintLE)\n",
    "C6= pp.LpConstraint(name='DR_20.4 Constraint',  \n",
    "                    e= 1*F + 1*A, rhs=4, \n",
    "                    sense=pp.LpConstraintLE)"
   ]
  },
  {
   "cell_type": "code",
   "execution_count": 13,
   "id": "5be9e605-d929-498e-acb6-e5020f2f97be",
   "metadata": {},
   "outputs": [],
   "source": [
    "model2 += obj_func2\n",
    "model2 += C1\n",
    "model2 += C2\n",
    "model2 += C3\n",
    "model2 += C4\n",
    "model2 += C5\n",
    "model2 += C6"
   ]
  },
  {
   "cell_type": "code",
   "execution_count": 14,
   "id": "dbbb0faf-85f4-4ff0-b898-3b89933a98b3",
   "metadata": {},
   "outputs": [
    {
     "data": {
      "text/plain": [
       "1"
      ]
     },
     "execution_count": 14,
     "metadata": {},
     "output_type": "execute_result"
    }
   ],
   "source": [
    "C_solver= pp.COIN_CMD(path=\"C:/Users/ALEXANDRA/anaconda3/Lib/site-packages/pulp/solverdir/cbc/win/64/cbc.exe\", msg=False)\n",
    "model.solve(solver=C_solver)"
   ]
  },
  {
   "cell_type": "code",
   "execution_count": 16,
   "id": "9ff69a9a-2e26-4187-a2e9-63f1d3104fb8",
   "metadata": {},
   "outputs": [
    {
     "data": {
      "text/plain": [
       "{'Model Status': 'Not Solved',\n",
       " 'Optimal Solution': None,\n",
       " 'Shift_0_4_am': None,\n",
       " 'Shift_12_16_pm': None,\n",
       " 'Shift_16_20_pm': None,\n",
       " 'Shift_20_0_pm': None,\n",
       " 'Shift_4_8_am': None,\n",
       " 'Shift_8_12_am': None}"
      ]
     },
     "execution_count": 16,
     "metadata": {},
     "output_type": "execute_result"
    }
   ],
   "source": [
    "import pandas as pd\n",
    "\n",
    "Results2={\"Model Status\":pp.LpStatus[model2.status]}\n",
    "Results2.update({\"Optimal Solution\":pp.value(model2.objective)})\n",
    "Results2.update({v.name: v.varValue for v in model2.variables()})\n",
    "Results2"
   ]
  },
  {
   "cell_type": "markdown",
   "id": "68985fc6-c63b-4b4c-bc55-b54e412c993d",
   "metadata": {},
   "source": [
    "## Multi Criteria: Choosing a Master Program"
   ]
  },
  {
   "cell_type": "code",
   "execution_count": 5,
   "id": "48a9e616-7d57-4493-b16d-4342da05dd8d",
   "metadata": {},
   "outputs": [
    {
     "data": {
      "text/html": [
       "\n",
       "<iframe src=\"https://docs.google.com/spreadsheets/d/1fcnfcmDSSisiYiu-FpnYT5cKBQYqrjnE1DkigsHcM8E/edit?gid=1644302930#gid=1644302930\" width=\"900\" height=\"400\" ></iframe4\n"
      ],
      "text/plain": [
       "<IPython.core.display.HTML object>"
      ]
     },
     "metadata": {},
     "output_type": "display_data"
    }
   ],
   "source": [
    "%%html\n",
    "<iframe src=\"https://docs.google.com/spreadsheets/d/1fcnfcmDSSisiYiu-FpnYT5cKBQYqrjnE1DkigsHcM8E/edit?gid=1644302930#gid=1644302930\" width=\"900\" height=\"400\" ></iframe4"
   ]
  },
  {
   "cell_type": "code",
   "execution_count": 18,
   "id": "88cc2c66-a485-4733-a2b4-208ebfa56018",
   "metadata": {},
   "outputs": [],
   "source": [
    "linkGoogle = 'https://docs.google.com/spreadsheets/d/1fcnfcmDSSisiYiu-FpnYT5cKBQYqrjnE1DkigsHcM8E/export?format=xlsx'"
   ]
  },
  {
   "cell_type": "code",
   "execution_count": 28,
   "id": "149cf9ed-f4a7-4932-90ba-bec71596a394",
   "metadata": {},
   "outputs": [],
   "source": [
    "import pandas as pd\n",
    "\n",
    "pairwise_costs = pd.read_excel(linkGoogle, sheet_name='cost of living', index_col=0, usecols=\"A:E\", nrows=5)\n",
    "pairwise_language = pd.read_excel(linkGoogle, sheet_name='languaje difficulty', index_col=0, usecols=\"A:E\", nrows=5)\n",
    "pairwise_job = pd.read_excel(linkGoogle, sheet_name='possibilities to get a job', index_col=0, usecols=\"A:E\", nrows=5)\n",
    "pairwise_criteria = pd.read_excel(linkGoogle, sheet_name='criterios', index_col=0, usecols=\"A:D\", nrows=4)"
   ]
  },
  {
   "cell_type": "code",
   "execution_count": 29,
   "id": "95cd5a40-21b5-4a67-abcd-bab165e237e2",
   "metadata": {},
   "outputs": [
    {
     "data": {
      "text/html": [
       "<div>\n",
       "<style scoped>\n",
       "    .dataframe tbody tr th:only-of-type {\n",
       "        vertical-align: middle;\n",
       "    }\n",
       "\n",
       "    .dataframe tbody tr th {\n",
       "        vertical-align: top;\n",
       "    }\n",
       "\n",
       "    .dataframe thead th {\n",
       "        text-align: right;\n",
       "    }\n",
       "</style>\n",
       "<table border=\"1\" class=\"dataframe\">\n",
       "  <thead>\n",
       "    <tr style=\"text-align: right;\">\n",
       "      <th></th>\n",
       "      <th>uk</th>\n",
       "      <th>germany</th>\n",
       "      <th>spain</th>\n",
       "      <th>chile</th>\n",
       "    </tr>\n",
       "  </thead>\n",
       "  <tbody>\n",
       "    <tr>\n",
       "      <th>uk</th>\n",
       "      <td>1</td>\n",
       "      <td>0.333333</td>\n",
       "      <td>0.5</td>\n",
       "      <td>0.111111</td>\n",
       "    </tr>\n",
       "    <tr>\n",
       "      <th>germany</th>\n",
       "      <td>3</td>\n",
       "      <td>1.000000</td>\n",
       "      <td>0.5</td>\n",
       "      <td>0.200000</td>\n",
       "    </tr>\n",
       "    <tr>\n",
       "      <th>spain</th>\n",
       "      <td>2</td>\n",
       "      <td>2.000000</td>\n",
       "      <td>1.0</td>\n",
       "      <td>0.500000</td>\n",
       "    </tr>\n",
       "    <tr>\n",
       "      <th>chile</th>\n",
       "      <td>9</td>\n",
       "      <td>5.000000</td>\n",
       "      <td>2.0</td>\n",
       "      <td>1.000000</td>\n",
       "    </tr>\n",
       "  </tbody>\n",
       "</table>\n",
       "</div>"
      ],
      "text/plain": [
       "         uk   germany  spain     chile\n",
       "uk        1  0.333333    0.5  0.111111\n",
       "germany   3  1.000000    0.5  0.200000\n",
       "spain     2  2.000000    1.0  0.500000\n",
       "chile     9  5.000000    2.0  1.000000"
      ]
     },
     "execution_count": 29,
     "metadata": {},
     "output_type": "execute_result"
    }
   ],
   "source": [
    "pairwise_costs"
   ]
  },
  {
   "cell_type": "code",
   "execution_count": 30,
   "id": "bdef60e2-5827-4e43-b94c-2ca0b3997fc6",
   "metadata": {},
   "outputs": [
    {
     "data": {
      "text/html": [
       "<div>\n",
       "<style scoped>\n",
       "    .dataframe tbody tr th:only-of-type {\n",
       "        vertical-align: middle;\n",
       "    }\n",
       "\n",
       "    .dataframe tbody tr th {\n",
       "        vertical-align: top;\n",
       "    }\n",
       "\n",
       "    .dataframe thead th {\n",
       "        text-align: right;\n",
       "    }\n",
       "</style>\n",
       "<table border=\"1\" class=\"dataframe\">\n",
       "  <thead>\n",
       "    <tr style=\"text-align: right;\">\n",
       "      <th></th>\n",
       "      <th>uk</th>\n",
       "      <th>germany</th>\n",
       "      <th>spain</th>\n",
       "      <th>chile</th>\n",
       "    </tr>\n",
       "  </thead>\n",
       "  <tbody>\n",
       "    <tr>\n",
       "      <th>uk</th>\n",
       "      <td>1.0</td>\n",
       "      <td>5</td>\n",
       "      <td>0.111111</td>\n",
       "      <td>0.111111</td>\n",
       "    </tr>\n",
       "    <tr>\n",
       "      <th>germany</th>\n",
       "      <td>0.2</td>\n",
       "      <td>1</td>\n",
       "      <td>0.111111</td>\n",
       "      <td>0.111111</td>\n",
       "    </tr>\n",
       "    <tr>\n",
       "      <th>spain</th>\n",
       "      <td>9.0</td>\n",
       "      <td>9</td>\n",
       "      <td>1.000000</td>\n",
       "      <td>1.000000</td>\n",
       "    </tr>\n",
       "    <tr>\n",
       "      <th>chile</th>\n",
       "      <td>9.0</td>\n",
       "      <td>9</td>\n",
       "      <td>1.000000</td>\n",
       "      <td>1.000000</td>\n",
       "    </tr>\n",
       "  </tbody>\n",
       "</table>\n",
       "</div>"
      ],
      "text/plain": [
       "          uk  germany     spain     chile\n",
       "uk       1.0        5  0.111111  0.111111\n",
       "germany  0.2        1  0.111111  0.111111\n",
       "spain    9.0        9  1.000000  1.000000\n",
       "chile    9.0        9  1.000000  1.000000"
      ]
     },
     "execution_count": 30,
     "metadata": {},
     "output_type": "execute_result"
    }
   ],
   "source": [
    "pairwise_language"
   ]
  },
  {
   "cell_type": "code",
   "execution_count": 33,
   "id": "14728dc8-a8ab-488f-8e7b-8f344b68d7a0",
   "metadata": {},
   "outputs": [
    {
     "data": {
      "text/html": [
       "<div>\n",
       "<style scoped>\n",
       "    .dataframe tbody tr th:only-of-type {\n",
       "        vertical-align: middle;\n",
       "    }\n",
       "\n",
       "    .dataframe tbody tr th {\n",
       "        vertical-align: top;\n",
       "    }\n",
       "\n",
       "    .dataframe thead th {\n",
       "        text-align: right;\n",
       "    }\n",
       "</style>\n",
       "<table border=\"1\" class=\"dataframe\">\n",
       "  <thead>\n",
       "    <tr style=\"text-align: right;\">\n",
       "      <th></th>\n",
       "      <th>uk</th>\n",
       "      <th>germany</th>\n",
       "      <th>spain</th>\n",
       "      <th>chile</th>\n",
       "    </tr>\n",
       "  </thead>\n",
       "  <tbody>\n",
       "    <tr>\n",
       "      <th>uk</th>\n",
       "      <td>1.000000</td>\n",
       "      <td>0.500000</td>\n",
       "      <td>8</td>\n",
       "      <td>6.000000</td>\n",
       "    </tr>\n",
       "    <tr>\n",
       "      <th>germany</th>\n",
       "      <td>2.000000</td>\n",
       "      <td>1.000000</td>\n",
       "      <td>9</td>\n",
       "      <td>7.000000</td>\n",
       "    </tr>\n",
       "    <tr>\n",
       "      <th>spain</th>\n",
       "      <td>0.125000</td>\n",
       "      <td>0.111111</td>\n",
       "      <td>1</td>\n",
       "      <td>0.333333</td>\n",
       "    </tr>\n",
       "    <tr>\n",
       "      <th>chile</th>\n",
       "      <td>0.166667</td>\n",
       "      <td>0.142857</td>\n",
       "      <td>3</td>\n",
       "      <td>1.000000</td>\n",
       "    </tr>\n",
       "  </tbody>\n",
       "</table>\n",
       "</div>"
      ],
      "text/plain": [
       "               uk   germany  spain     chile\n",
       "uk       1.000000  0.500000      8  6.000000\n",
       "germany  2.000000  1.000000      9  7.000000\n",
       "spain    0.125000  0.111111      1  0.333333\n",
       "chile    0.166667  0.142857      3  1.000000"
      ]
     },
     "execution_count": 33,
     "metadata": {},
     "output_type": "execute_result"
    }
   ],
   "source": [
    "pairwise_job"
   ]
  },
  {
   "cell_type": "code",
   "execution_count": 31,
   "id": "d35a0c74-ec85-4043-8c6a-4d5c543b892e",
   "metadata": {},
   "outputs": [
    {
     "data": {
      "text/html": [
       "<div>\n",
       "<style scoped>\n",
       "    .dataframe tbody tr th:only-of-type {\n",
       "        vertical-align: middle;\n",
       "    }\n",
       "\n",
       "    .dataframe tbody tr th {\n",
       "        vertical-align: top;\n",
       "    }\n",
       "\n",
       "    .dataframe thead th {\n",
       "        text-align: right;\n",
       "    }\n",
       "</style>\n",
       "<table border=\"1\" class=\"dataframe\">\n",
       "  <thead>\n",
       "    <tr style=\"text-align: right;\">\n",
       "      <th></th>\n",
       "      <th>cost</th>\n",
       "      <th>language</th>\n",
       "      <th>job</th>\n",
       "    </tr>\n",
       "  </thead>\n",
       "  <tbody>\n",
       "    <tr>\n",
       "      <th>cost</th>\n",
       "      <td>1.0</td>\n",
       "      <td>5</td>\n",
       "      <td>0.111111</td>\n",
       "    </tr>\n",
       "    <tr>\n",
       "      <th>language</th>\n",
       "      <td>0.2</td>\n",
       "      <td>1</td>\n",
       "      <td>0.142857</td>\n",
       "    </tr>\n",
       "    <tr>\n",
       "      <th>job</th>\n",
       "      <td>9.0</td>\n",
       "      <td>7</td>\n",
       "      <td>1.000000</td>\n",
       "    </tr>\n",
       "  </tbody>\n",
       "</table>\n",
       "</div>"
      ],
      "text/plain": [
       "          cost  language       job\n",
       "cost       1.0         5  0.111111\n",
       "language   0.2         1  0.142857\n",
       "job        9.0         7  1.000000"
      ]
     },
     "execution_count": 31,
     "metadata": {},
     "output_type": "execute_result"
    }
   ],
   "source": [
    "pairwise_criteria"
   ]
  },
  {
   "cell_type": "code",
   "execution_count": 32,
   "id": "a930df76-977e-4712-9602-15a7b61442b7",
   "metadata": {},
   "outputs": [
    {
     "data": {
      "text/plain": [
       "OutMultiEdgeDataView([('uk', 'uk', {'weight': 1.0}), ('uk', 'germany', {'weight': 0.3333333333}), ('uk', 'spain', {'weight': 0.5}), ('uk', 'chile', {'weight': 0.1111111111}), ('germany', 'germany', {'weight': 1.0}), ('germany', 'uk', {'weight': 3.0}), ('germany', 'spain', {'weight': 0.5}), ('germany', 'chile', {'weight': 0.2}), ('spain', 'spain', {'weight': 1.0}), ('spain', 'uk', {'weight': 2.0}), ('spain', 'germany', {'weight': 2.0}), ('spain', 'chile', {'weight': 0.5}), ('chile', 'chile', {'weight': 1.0}), ('chile', 'uk', {'weight': 9.0}), ('chile', 'germany', {'weight': 5.0}), ('chile', 'spain', {'weight': 2.0})])"
      ]
     },
     "execution_count": 32,
     "metadata": {},
     "output_type": "execute_result"
    }
   ],
   "source": [
    "G_costs = nx.from_pandas_adjacency(pairwise_costs,create_using=nx.MultiDiGraph())\n",
    "G_costs.edges(data=True)"
   ]
  },
  {
   "cell_type": "code",
   "execution_count": 37,
   "id": "a37f37e4-b1bc-4638-8b62-6924a1059024",
   "metadata": {},
   "outputs": [],
   "source": [
    "costs_comparisons ={(e[0],e[1]):e[2]['weight'] for e in G_costs.edges(data=True) if e[0]!= e[1]}\n",
    "\n",
    "G_language = nx.from_pandas_adjacency(pairwise_language,create_using=nx.MultiDiGraph())\n",
    "language_comparisons ={(e[0],e[1]):e[2]['weight'] for e in G_language.edges(data=True) if e[0]!= e[1]}\n",
    "\n",
    "G_job = nx.from_pandas_adjacency(pairwise_job,create_using=nx.MultiDiGraph())\n",
    "job_comparisons ={(e[0],e[1]):e[2]['weight'] for e in G_job.edges(data=True) if e[0]!= e[1]}"
   ]
  },
  {
   "cell_type": "code",
   "execution_count": 38,
   "id": "f877a13a-15ea-4c55-b8c4-544881e84ca4",
   "metadata": {},
   "outputs": [
    {
     "data": {
      "text/plain": [
       "[{('uk', 'germany'): 0.3333333333,\n",
       "  ('uk', 'spain'): 0.5,\n",
       "  ('uk', 'chile'): 0.1111111111,\n",
       "  ('germany', 'uk'): 3.0,\n",
       "  ('germany', 'spain'): 0.5,\n",
       "  ('germany', 'chile'): 0.2,\n",
       "  ('spain', 'uk'): 2.0,\n",
       "  ('spain', 'germany'): 2.0,\n",
       "  ('spain', 'chile'): 0.5,\n",
       "  ('chile', 'uk'): 9.0,\n",
       "  ('chile', 'germany'): 5.0,\n",
       "  ('chile', 'spain'): 2.0},\n",
       " {('uk', 'germany'): 5.0,\n",
       "  ('uk', 'spain'): 0.1111111111,\n",
       "  ('uk', 'chile'): 0.1111111111,\n",
       "  ('germany', 'uk'): 0.2,\n",
       "  ('germany', 'spain'): 0.1111111111,\n",
       "  ('germany', 'chile'): 0.1111111111,\n",
       "  ('spain', 'uk'): 9.0,\n",
       "  ('spain', 'germany'): 9.0,\n",
       "  ('spain', 'chile'): 1.0,\n",
       "  ('chile', 'uk'): 9.0,\n",
       "  ('chile', 'germany'): 9.0,\n",
       "  ('chile', 'spain'): 1.0},\n",
       " {('uk', 'germany'): 0.5,\n",
       "  ('uk', 'spain'): 8.0,\n",
       "  ('uk', 'chile'): 6.0,\n",
       "  ('germany', 'uk'): 2.0,\n",
       "  ('germany', 'spain'): 9.0,\n",
       "  ('germany', 'chile'): 7.0,\n",
       "  ('spain', 'uk'): 0.125,\n",
       "  ('spain', 'germany'): 0.1111111111,\n",
       "  ('spain', 'chile'): 0.3333333333,\n",
       "  ('chile', 'uk'): 0.1666666667,\n",
       "  ('chile', 'germany'): 0.1428571429,\n",
       "  ('chile', 'spain'): 3.0}]"
      ]
     },
     "execution_count": 38,
     "metadata": {},
     "output_type": "execute_result"
    }
   ],
   "source": [
    "[costs_comparisons, language_comparisons,job_comparisons]"
   ]
  },
  {
   "cell_type": "code",
   "execution_count": 39,
   "id": "d6edc7df-2c0d-4e3d-9589-c55709340d31",
   "metadata": {},
   "outputs": [
    {
     "data": {
      "text/plain": [
       "{('cost', 'language'): 5.0,\n",
       " ('cost', 'job'): 0.1111111111,\n",
       " ('language', 'cost'): 0.2,\n",
       " ('language', 'job'): 0.1428571429,\n",
       " ('job', 'cost'): 9.0,\n",
       " ('job', 'language'): 7.0}"
      ]
     },
     "execution_count": 39,
     "metadata": {},
     "output_type": "execute_result"
    }
   ],
   "source": [
    "G_criteria= nx.from_pandas_adjacency(pairwise_criteria,create_using=nx.MultiDiGraph())\n",
    "criteria_comparisons ={(e[0],e[1]):e[2]['weight'] for e in G_criteria.edges(data=True) if e[0]!= e[1]}\n",
    "criteria_comparisons"
   ]
  },
  {
   "cell_type": "code",
   "execution_count": 54,
   "id": "eb1aef0d-24ed-40b2-af58-25e1f35cc5a8",
   "metadata": {},
   "outputs": [],
   "source": [
    "import ahpy\n",
    "\n",
    "cost_living = ahpy.Compare('cost', costs_comparisons, precision=3, random_index='saaty')\n",
    "language_difficulty = ahpy.Compare('language', language_comparisons, precision=3, random_index='saaty')\n",
    "job_opportunities = ahpy.Compare('job', job_comparisons, precision=3, random_index='saaty')\n",
    "criteria = ahpy.Compare('criteria', criteria_comparisons, precision=3, random_index='saaty')"
   ]
  },
  {
   "cell_type": "code",
   "execution_count": 55,
   "id": "aa810324-943d-4f64-ab84-5486e5a871c2",
   "metadata": {},
   "outputs": [],
   "source": [
    "criteria.add_children([cost_living, language_difficulty, job_opportunities])"
   ]
  },
  {
   "cell_type": "code",
   "execution_count": 56,
   "id": "3c20b0a8-6e6f-43da-9e8f-a4ba0f2064c4",
   "metadata": {},
   "outputs": [
    {
     "name": "stdout",
     "output_type": "stream",
     "text": [
      "{'germany': 0.435, 'uk': 0.288, 'chile': 0.182, 'spain': 0.095}\n"
     ]
    }
   ],
   "source": [
    "print(criteria.target_weights)"
   ]
  },
  {
   "cell_type": "code",
   "execution_count": 57,
   "id": "e9f77cc3-21f6-4525-82b6-8cf534d86e3c",
   "metadata": {},
   "outputs": [
    {
     "data": {
      "text/plain": [
       "[('cost', 0.052), ('language', 0.127), ('job', 0.047), ('criteria', 0.382)]"
      ]
     },
     "execution_count": 57,
     "metadata": {},
     "output_type": "execute_result"
    }
   ],
   "source": [
    "[(val.name,val.consistency_ratio) for val in [cost_living, language_difficulty, job_opportunities, criteria]]"
   ]
  },
  {
   "cell_type": "markdown",
   "id": "51b22d26-46f3-46da-9fe4-1fc111cfa952",
   "metadata": {},
   "source": [
    "## Benchmarking"
   ]
  }
 ],
 "metadata": {
  "kernelspec": {
   "display_name": "Python 3 (ipykernel)",
   "language": "python",
   "name": "python3"
  },
  "language_info": {
   "codemirror_mode": {
    "name": "ipython",
    "version": 3
   },
   "file_extension": ".py",
   "mimetype": "text/x-python",
   "name": "python",
   "nbconvert_exporter": "python",
   "pygments_lexer": "ipython3",
   "version": "3.11.7"
  }
 },
 "nbformat": 4,
 "nbformat_minor": 5
}
